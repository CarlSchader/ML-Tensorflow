{
 "cells": [
  {
   "cell_type": "code",
   "execution_count": 1,
   "metadata": {},
   "outputs": [],
   "source": [
    "import tensorflow as tf\n",
    "from tensorflow import keras\n",
    "import numpy as np"
   ]
  },
  {
   "cell_type": "code",
   "execution_count": 20,
   "metadata": {},
   "outputs": [
    {
     "name": "stdout",
     "output_type": "stream",
     "text": [
      "(32, 5, 1)\n"
     ]
    }
   ],
   "source": [
    "def generate_time_series(batch_size, n_steps):\n",
    "  freq1, freq2, offset1, offset2 = np.random.rand(4, batch_size, 1)\n",
    "  time = np.linspace(0, 1, n_steps)\n",
    "  series =  0.5 * np.sin((time - offset1) * (freq1 * 10 + 10))\n",
    "  series +=  0.2 * np.sin((time - offset2) * (freq2 * 10 + 10))\n",
    "  series +=  0.1 * np.random.rand(batch_size, n_steps) * 0.5\n",
    "  return series[..., np.newaxis].astype(np.float32)\n",
    "\n",
    "print(generate_time_series(32, 5).shape)"
   ]
  },
  {
   "cell_type": "code",
   "execution_count": 22,
   "metadata": {},
   "outputs": [],
   "source": [
    "n_steps = 50\n",
    "series = generate_time_series(10000, n_steps + 1)\n",
    "X_train, y_train = series[:7000, :n_steps], series[:7000, -1]\n",
    "X_val, y_val = series[7000:9000, :n_steps], series[7000:9000, -1]\n",
    "X_test, y_test = series[9000:, :n_steps], series[9000:, -1]"
   ]
  },
  {
   "cell_type": "code",
   "execution_count": 25,
   "metadata": {},
   "outputs": [
    {
     "name": "stdout",
     "output_type": "stream",
     "text": [
      "0.014027807\n"
     ]
    }
   ],
   "source": [
    "# naive forecasting (last element in data as prediction)\n",
    "# difficult to outperform\n",
    "\n",
    "print(np.mean(keras.losses.mean_squared_error(y_val, X_val[:, -1])))"
   ]
  },
  {
   "cell_type": "code",
   "execution_count": 27,
   "metadata": {},
   "outputs": [
    {
     "name": "stdout",
     "output_type": "stream",
     "text": [
      "Epoch 1/20\n",
      "219/219 [==============================] - 0s 389us/step - loss: 0.0472 - mean_squared_error: 0.0472\n",
      "Epoch 2/20\n",
      "219/219 [==============================] - 0s 372us/step - loss: 0.0051 - mean_squared_error: 0.0051\n",
      "Epoch 3/20\n",
      "219/219 [==============================] - 0s 416us/step - loss: 0.0038 - mean_squared_error: 0.0038\n",
      "Epoch 4/20\n",
      "219/219 [==============================] - 0s 407us/step - loss: 0.0032 - mean_squared_error: 0.0032\n",
      "Epoch 5/20\n",
      "219/219 [==============================] - 0s 387us/step - loss: 0.0026 - mean_squared_error: 0.0026\n",
      "Epoch 6/20\n",
      "219/219 [==============================] - 0s 373us/step - loss: 0.0021 - mean_squared_error: 0.0021\n",
      "Epoch 7/20\n",
      "219/219 [==============================] - 0s 362us/step - loss: 0.0017 - mean_squared_error: 0.0017\n",
      "Epoch 8/20\n",
      "219/219 [==============================] - 0s 356us/step - loss: 0.0014 - mean_squared_error: 0.0014\n",
      "Epoch 9/20\n",
      "219/219 [==============================] - 0s 364us/step - loss: 0.0012 - mean_squared_error: 0.0012\n",
      "Epoch 10/20\n",
      "219/219 [==============================] - 0s 354us/step - loss: 0.0011 - mean_squared_error: 0.0011\n",
      "Epoch 11/20\n",
      "219/219 [==============================] - 0s 359us/step - loss: 9.8785e-04 - mean_squared_error: 9.8785e-04\n",
      "Epoch 12/20\n",
      "219/219 [==============================] - 0s 387us/step - loss: 9.3726e-04 - mean_squared_error: 9.3726e-04\n",
      "Epoch 13/20\n",
      "219/219 [==============================] - 0s 369us/step - loss: 9.1014e-04 - mean_squared_error: 9.1014e-04\n",
      "Epoch 14/20\n",
      "219/219 [==============================] - 0s 511us/step - loss: 8.8651e-04 - mean_squared_error: 8.8651e-04\n",
      "Epoch 15/20\n",
      "219/219 [==============================] - 0s 397us/step - loss: 8.7497e-04 - mean_squared_error: 8.7497e-04\n",
      "Epoch 16/20\n",
      "219/219 [==============================] - 0s 405us/step - loss: 8.6393e-04 - mean_squared_error: 8.6393e-04\n",
      "Epoch 17/20\n",
      "219/219 [==============================] - 0s 385us/step - loss: 8.4268e-04 - mean_squared_error: 8.4268e-04\n",
      "Epoch 18/20\n",
      "219/219 [==============================] - 0s 356us/step - loss: 8.4499e-04 - mean_squared_error: 8.4499e-04\n",
      "Epoch 19/20\n",
      "219/219 [==============================] - 0s 349us/step - loss: 8.3218e-04 - mean_squared_error: 8.3218e-04\n",
      "Epoch 20/20\n",
      "219/219 [==============================] - 0s 357us/step - loss: 8.2745e-04 - mean_squared_error: 8.2745e-04\n",
      "32/32 [==============================] - 0s 334us/step\n",
      "tf.Tensor(0.0008840643, shape=(), dtype=float32)\n"
     ]
    }
   ],
   "source": [
    "# FFNN\n",
    "\n",
    "model = keras.models.Sequential([\n",
    "  keras.layers.Flatten(input_shape=[50, 1]),\n",
    "  keras.layers.Dense(1),\n",
    "])\n",
    "\n",
    "model.compile(\n",
    "  loss=keras.losses.MSE,\n",
    "  metrics=[keras.metrics.MSE],\n",
    "  optimizer=keras.optimizers.Adam()\n",
    ")\n",
    "\n",
    "model.fit(X_train, y_train, epochs=20)\n",
    "\n",
    "print(tf.reduce_mean(keras.losses.MSE(y_test, model.predict(X_test))))"
   ]
  },
  {
   "cell_type": "code",
   "execution_count": 33,
   "metadata": {},
   "outputs": [
    {
     "name": "stdout",
     "output_type": "stream",
     "text": [
      "Epoch 1/20\n",
      "219/219 [==============================] - 1s 2ms/step - loss: 0.1638 - mean_squared_error: 0.1638\n",
      "Epoch 2/20\n",
      "219/219 [==============================] - 0s 2ms/step - loss: 0.0966 - mean_squared_error: 0.0966\n",
      "Epoch 3/20\n",
      "219/219 [==============================] - 0s 2ms/step - loss: 0.0694 - mean_squared_error: 0.0694\n",
      "Epoch 4/20\n",
      "219/219 [==============================] - 0s 2ms/step - loss: 0.0529 - mean_squared_error: 0.0529\n",
      "Epoch 5/20\n",
      "219/219 [==============================] - 0s 2ms/step - loss: 0.0425 - mean_squared_error: 0.0425\n",
      "Epoch 6/20\n",
      "219/219 [==============================] - 0s 2ms/step - loss: 0.0355 - mean_squared_error: 0.0355\n",
      "Epoch 7/20\n",
      "219/219 [==============================] - 0s 2ms/step - loss: 0.0305 - mean_squared_error: 0.0305\n",
      "Epoch 8/20\n",
      "219/219 [==============================] - 0s 2ms/step - loss: 0.0267 - mean_squared_error: 0.0267\n",
      "Epoch 9/20\n",
      "219/219 [==============================] - 0s 2ms/step - loss: 0.0237 - mean_squared_error: 0.0237\n",
      "Epoch 10/20\n",
      "219/219 [==============================] - 0s 2ms/step - loss: 0.0212 - mean_squared_error: 0.0212\n",
      "Epoch 11/20\n",
      "219/219 [==============================] - 0s 2ms/step - loss: 0.0193 - mean_squared_error: 0.0193\n",
      "Epoch 12/20\n",
      "219/219 [==============================] - 0s 2ms/step - loss: 0.0176 - mean_squared_error: 0.0176\n",
      "Epoch 13/20\n",
      "219/219 [==============================] - 0s 2ms/step - loss: 0.0161 - mean_squared_error: 0.0161\n",
      "Epoch 14/20\n",
      "219/219 [==============================] - 0s 2ms/step - loss: 0.0149 - mean_squared_error: 0.0149\n",
      "Epoch 15/20\n",
      "219/219 [==============================] - 0s 2ms/step - loss: 0.0138 - mean_squared_error: 0.0138\n",
      "Epoch 16/20\n",
      "219/219 [==============================] - 0s 2ms/step - loss: 0.0129 - mean_squared_error: 0.0129\n",
      "Epoch 17/20\n",
      "219/219 [==============================] - 0s 2ms/step - loss: 0.0120 - mean_squared_error: 0.0120\n",
      "Epoch 18/20\n",
      "219/219 [==============================] - 0s 2ms/step - loss: 0.0113 - mean_squared_error: 0.0113\n",
      "Epoch 19/20\n",
      "219/219 [==============================] - 0s 2ms/step - loss: 0.0106 - mean_squared_error: 0.0106\n",
      "Epoch 20/20\n",
      "219/219 [==============================] - 0s 2ms/step - loss: 0.0100 - mean_squared_error: 0.0100\n",
      "32/32 [==============================] - 0s 925us/step\n",
      "tf.Tensor(0.009660494, shape=(), dtype=float32)\n"
     ]
    }
   ],
   "source": [
    "# Simple RNN\n",
    "\n",
    "model = keras.models.Sequential([\n",
    "  keras.layers.SimpleRNN(1, input_shape=[None, 1])\n",
    "])\n",
    "\n",
    "model.compile(\n",
    "  loss=keras.losses.MSE,\n",
    "  metrics=[keras.metrics.MSE],\n",
    "  optimizer=keras.optimizers.Adam()\n",
    ")\n",
    "\n",
    "model.fit(X_train, y_train, epochs=20)\n",
    "\n",
    "print(tf.reduce_mean(keras.losses.MSE(y_test, model.predict(X_test))))"
   ]
  },
  {
   "cell_type": "code",
   "execution_count": 37,
   "metadata": {},
   "outputs": [
    {
     "name": "stdout",
     "output_type": "stream",
     "text": [
      "Epoch 1/20\n",
      "219/219 [==============================] - 2s 5ms/step - loss: 0.0329 - mean_squared_error: 0.0329\n",
      "Epoch 2/20\n",
      "219/219 [==============================] - 1s 5ms/step - loss: 0.0018 - mean_squared_error: 0.0018\n",
      "Epoch 3/20\n",
      "219/219 [==============================] - 1s 5ms/step - loss: 0.0012 - mean_squared_error: 0.0012\n",
      "Epoch 4/20\n",
      "219/219 [==============================] - 1s 5ms/step - loss: 9.7958e-04 - mean_squared_error: 9.7958e-04\n",
      "Epoch 5/20\n",
      "219/219 [==============================] - 1s 5ms/step - loss: 8.4552e-04 - mean_squared_error: 8.4552e-04\n",
      "Epoch 6/20\n",
      "219/219 [==============================] - 1s 6ms/step - loss: 7.8782e-04 - mean_squared_error: 7.8782e-04\n",
      "Epoch 7/20\n",
      "219/219 [==============================] - 1s 6ms/step - loss: 7.6227e-04 - mean_squared_error: 7.6227e-04\n",
      "Epoch 8/20\n",
      "219/219 [==============================] - 1s 5ms/step - loss: 7.3231e-04 - mean_squared_error: 7.3231e-04\n",
      "Epoch 9/20\n",
      "219/219 [==============================] - 1s 5ms/step - loss: 7.7648e-04 - mean_squared_error: 7.7648e-04\n",
      "Epoch 10/20\n",
      "219/219 [==============================] - 1s 5ms/step - loss: 6.8690e-04 - mean_squared_error: 6.8690e-04\n",
      "Epoch 11/20\n",
      "219/219 [==============================] - 1s 5ms/step - loss: 7.1401e-04 - mean_squared_error: 7.1401e-04\n",
      "Epoch 12/20\n",
      "219/219 [==============================] - 1s 5ms/step - loss: 6.7020e-04 - mean_squared_error: 6.7020e-04\n",
      "Epoch 13/20\n",
      "219/219 [==============================] - 1s 5ms/step - loss: 6.9354e-04 - mean_squared_error: 6.9354e-04\n",
      "Epoch 14/20\n",
      "219/219 [==============================] - 1s 5ms/step - loss: 6.7675e-04 - mean_squared_error: 6.7675e-04\n",
      "Epoch 15/20\n",
      "219/219 [==============================] - 1s 5ms/step - loss: 6.7710e-04 - mean_squared_error: 6.7710e-04\n",
      "Epoch 16/20\n",
      "219/219 [==============================] - 1s 5ms/step - loss: 6.4543e-04 - mean_squared_error: 6.4543e-04\n",
      "Epoch 17/20\n",
      "219/219 [==============================] - 1s 5ms/step - loss: 6.3537e-04 - mean_squared_error: 6.3537e-04\n",
      "Epoch 18/20\n",
      "219/219 [==============================] - 1s 5ms/step - loss: 6.2647e-04 - mean_squared_error: 6.2647e-04\n",
      "Epoch 19/20\n",
      "219/219 [==============================] - 1s 5ms/step - loss: 6.3168e-04 - mean_squared_error: 6.3168e-04\n",
      "Epoch 20/20\n",
      "219/219 [==============================] - 1s 5ms/step - loss: 6.1325e-04 - mean_squared_error: 6.1325e-04\n",
      "32/32 [==============================] - 0s 2ms/step\n",
      "tf.Tensor(0.00055061275, shape=(), dtype=float32)\n"
     ]
    }
   ],
   "source": [
    "# Deep RNN\n",
    "\n",
    "model = keras.models.Sequential([\n",
    "  keras.layers.SimpleRNN(20, input_shape=[None, 1], return_sequences=True),\n",
    "  keras.layers.SimpleRNN(20, return_sequences=False),\n",
    "  keras.layers.Dense(1),\n",
    "])\n",
    "\n",
    "model.compile(\n",
    "  loss=keras.losses.MSE,\n",
    "  metrics=[keras.metrics.MSE],\n",
    "  optimizer=keras.optimizers.Adam()\n",
    ")\n",
    "\n",
    "model.fit(X_train, y_train, epochs=20)\n",
    "\n",
    "print(tf.reduce_mean(keras.losses.MSE(y_test, model.predict(X_test))))"
   ]
  },
  {
   "cell_type": "code",
   "execution_count": 44,
   "metadata": {},
   "outputs": [
    {
     "name": "stdout",
     "output_type": "stream",
     "text": [
      "1/1 [==============================] - 0s 13ms/step\n",
      "1/1 [==============================] - 0s 11ms/step\n",
      "1/1 [==============================] - 0s 11ms/step\n",
      "1/1 [==============================] - 0s 11ms/step\n",
      "1/1 [==============================] - 0s 11ms/step\n",
      "1/1 [==============================] - 0s 11ms/step\n",
      "1/1 [==============================] - 0s 11ms/step\n",
      "1/1 [==============================] - 0s 11ms/step\n",
      "1/1 [==============================] - 0s 11ms/step\n",
      "1/1 [==============================] - 0s 12ms/step\n",
      "[[[ 0.22415358]\n",
      "  [ 0.28099558]\n",
      "  [ 0.31323424]\n",
      "  [ 0.32960907]\n",
      "  [ 0.3208741 ]\n",
      "  [ 0.29528764]\n",
      "  [ 0.24252321]\n",
      "  [ 0.16057444]\n",
      "  [ 0.07075588]\n",
      "  [-0.04076669]]]\n",
      "tf.Tensor(0.0007105941, shape=(), dtype=float32)\n"
     ]
    }
   ],
   "source": [
    "# Using same model to predict multiple steps\n",
    "new_steps = 10\n",
    "series = generate_time_series(1, n_steps + new_steps)\n",
    "X_new, Y_new = series[:, :n_steps], series[:, n_steps:n_steps + new_steps]\n",
    "X = X_new\n",
    "for step in range(new_steps):\n",
    "  y_pred_one = model.predict(X[:, step:])[:, np.newaxis, :]\n",
    "  X = np.concatenate((X, y_pred_one), axis=1)\n",
    "y_pred = X[:, n_steps:]\n",
    "print(y_pred)\n",
    "print(tf.reduce_mean(keras.losses.MSE(Y_new, y_pred)))"
   ]
  },
  {
   "cell_type": "code",
   "execution_count": null,
   "metadata": {},
   "outputs": [],
   "source": [
    "# Guessing 10 at a times\n",
    "series = generate_time_series(10000, n_steps + new_steps)\n",
    "X_train, y_train = series[:7000, :n_steps], series[:7000, -new_steps]\n",
    "X_val, y_val = series[7000:9000, :n_steps], series[7000:9000, -new_steps]\n",
    "X_test, y_test = series[9000:, :n_steps], series[9000:, -new_steps]"
   ]
  },
  {
   "cell_type": "code",
   "execution_count": null,
   "metadata": {},
   "outputs": [],
   "source": [
    "model = keras.models.Sequential([\n",
    "  \n",
    "])"
   ]
  }
 ],
 "metadata": {
  "kernelspec": {
   "display_name": ".venv",
   "language": "python",
   "name": "python3"
  },
  "language_info": {
   "codemirror_mode": {
    "name": "ipython",
    "version": 3
   },
   "file_extension": ".py",
   "mimetype": "text/x-python",
   "name": "python",
   "nbconvert_exporter": "python",
   "pygments_lexer": "ipython3",
   "version": "3.10.6"
  },
  "orig_nbformat": 4,
  "vscode": {
   "interpreter": {
    "hash": "9120ca18d9a6352a9f63d878cd22df8740658f703b5d617e89c0216f7e3927ea"
   }
  }
 },
 "nbformat": 4,
 "nbformat_minor": 2
}
