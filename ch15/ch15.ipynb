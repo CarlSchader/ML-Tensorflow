{
 "cells": [
  {
   "cell_type": "code",
   "execution_count": 1,
   "metadata": {},
   "outputs": [],
   "source": [
    "import tensorflow as tf\n",
    "from tensorflow import keras\n",
    "import numpy as np"
   ]
  },
  {
   "cell_type": "code",
   "execution_count": null,
   "metadata": {},
   "outputs": [],
   "source": [
    "def generate_time_series(batch_size, n_steps):\n",
    "  freq1, freq2, offset1, offset2 = np.random.rand(4, batch_size, 1)\n",
    "  time = np.linspace(0, 1, n_steps)\n",
    "  series =  0.5 * np.sin((time - offset1) * (freq1 * 10 + 10))\n",
    "  series +=  0.2 * np.sin((time - offset2) * (freq2 * 10 + 10))\n",
    "  series +=  0.1 * np.random.rand(batch_size, n_steps) * 0.5\n",
    "  return series[..., np.newaxis].astype(np.float32)\n",
    "\n",
    "print(generate_time_series(32, 5).shape)"
   ]
  },
  {
   "cell_type": "code",
   "execution_count": null,
   "metadata": {},
   "outputs": [],
   "source": [
    "n_steps = 50\n",
    "series = generate_time_series(10000, n_steps + 1)\n",
    "X_train, y_train = series[:7000, :n_steps], series[:7000, -1]\n",
    "X_val, y_val = series[7000:9000, :n_steps], series[7000:9000, -1]\n",
    "X_test, y_test = series[9000:, :n_steps], series[9000:, -1]"
   ]
  },
  {
   "cell_type": "code",
   "execution_count": null,
   "metadata": {},
   "outputs": [],
   "source": [
    "# naive forecasting (last element in data as prediction)\n",
    "# difficult to outperform\n",
    "\n",
    "print(np.mean(keras.losses.mean_squared_error(y_val, X_val[:, -1])))"
   ]
  },
  {
   "cell_type": "code",
   "execution_count": null,
   "metadata": {},
   "outputs": [],
   "source": [
    "# FFNN\n",
    "\n",
    "model = keras.models.Sequential([\n",
    "  keras.layers.Flatten(input_shape=[50, 1]),\n",
    "  keras.layers.Dense(1),\n",
    "])\n",
    "\n",
    "model.compile(\n",
    "  loss=keras.losses.MSE,\n",
    "  metrics=[keras.metrics.MSE],\n",
    "  optimizer=keras.optimizers.Adam()\n",
    ")\n",
    "\n",
    "model.fit(X_train, y_train, epochs=20)\n",
    "\n",
    "print(tf.reduce_mean(keras.losses.MSE(y_test, model.predict(X_test))))"
   ]
  },
  {
   "cell_type": "code",
   "execution_count": null,
   "metadata": {},
   "outputs": [],
   "source": [
    "# Simple RNN\n",
    "\n",
    "model = keras.models.Sequential([\n",
    "  keras.layers.SimpleRNN(1, input_shape=[None, 1])\n",
    "])\n",
    "\n",
    "model.compile(\n",
    "  loss=keras.losses.MSE,\n",
    "  metrics=[keras.metrics.MSE],\n",
    "  optimizer=keras.optimizers.Adam()\n",
    ")\n",
    "\n",
    "model.fit(X_train, y_train, epochs=20)\n",
    "\n",
    "print(tf.reduce_mean(keras.losses.MSE(y_test, model.predict(X_test))))"
   ]
  },
  {
   "cell_type": "code",
   "execution_count": null,
   "metadata": {},
   "outputs": [],
   "source": [
    "# Deep RNN\n",
    "\n",
    "model = keras.models.Sequential([\n",
    "  keras.layers.SimpleRNN(20, input_shape=[None, 1], return_sequences=True),\n",
    "  keras.layers.SimpleRNN(20, return_sequences=False),\n",
    "  keras.layers.Dense(1),\n",
    "])\n",
    "\n",
    "model.compile(\n",
    "  loss=keras.losses.MSE,\n",
    "  metrics=[keras.metrics.MSE],\n",
    "  optimizer=keras.optimizers.Adam()\n",
    ")\n",
    "\n",
    "model.fit(X_train, y_train, epochs=20)\n",
    "\n",
    "print(tf.reduce_mean(keras.losses.MSE(y_test, model.predict(X_test))))"
   ]
  },
  {
   "cell_type": "code",
   "execution_count": null,
   "metadata": {},
   "outputs": [],
   "source": [
    "# Using same model to predict multiple steps\n",
    "new_steps = 10\n",
    "series = generate_time_series(1, n_steps + new_steps)\n",
    "X_new, Y_new = series[:, :n_steps], series[:, n_steps:n_steps + new_steps]\n",
    "X = X_new\n",
    "for step in range(new_steps):\n",
    "  y_pred_one = model.predict(X[:, step:])[:, np.newaxis, :]\n",
    "  X = np.concatenate((X, y_pred_one), axis=1)\n",
    "y_pred = X[:, n_steps:]\n",
    "print(y_pred)\n",
    "print(tf.reduce_mean(keras.losses.MSE(Y_new, y_pred)))"
   ]
  },
  {
   "cell_type": "code",
   "execution_count": null,
   "metadata": {},
   "outputs": [],
   "source": [
    "# Guessing 10 at a times\n",
    "n_steps = 50\n",
    "new_steps = 10\n",
    "series = generate_time_series(10000, n_steps + new_steps)\n",
    "X_train, y_train = series[:7000, :n_steps], series[:7000, -new_steps:]\n",
    "X_val, y_val = series[7000:9000, :n_steps], series[7000:9000, -new_steps:]\n",
    "X_test, y_test = series[9000:, :n_steps], series[9000:, -new_steps:]\n",
    "\n",
    "print(series.shape)\n",
    "print(X_train.shape, y_train.shape)\n",
    "print(X_val.shape, y_val.shape)\n",
    "print(X_test.shape, y_test.shape)"
   ]
  },
  {
   "cell_type": "code",
   "execution_count": null,
   "metadata": {},
   "outputs": [],
   "source": [
    "model = keras.models.Sequential([\n",
    "  keras.layers.SimpleRNN(20, input_shape=[None, 1], return_sequences=True),\n",
    "  keras.layers.SimpleRNN(20, return_sequences=True),\n",
    "  keras.layers.SimpleRNN(20, return_sequences=False),\n",
    "  keras.layers.Dense(10),\n",
    "])\n",
    "\n",
    "model.compile(\n",
    "  loss=keras.losses.MSE,\n",
    "  metrics=[keras.metrics.MSE],\n",
    "  optimizer=keras.optimizers.Adam()\n",
    ")\n",
    "\n",
    "model.fit(X_train, y_train, epochs=20)"
   ]
  },
  {
   "cell_type": "code",
   "execution_count": null,
   "metadata": {},
   "outputs": [],
   "source": [
    "print(tf.reduce_mean(keras.losses.MSE(y_test.reshape(len(y_test), len(y_test[0])), model.predict(X_test))))"
   ]
  },
  {
   "cell_type": "code",
   "execution_count": null,
   "metadata": {},
   "outputs": [],
   "source": [
    "# Sequence to sequence data\n",
    "example_count = 10000\n",
    "prediction_length = 10\n",
    "Y = np.empty((example_count, n_steps, prediction_length))\n",
    "for step_ahead in range(1, prediction_length + 1):\n",
    "  Y[:, :, step_ahead - 1] = series[:, step_ahead:step_ahead + n_steps, 0]\n",
    "y_train = Y[:7000]\n",
    "y_val = Y[7000:9000]\n",
    "y_test = Y[9000:]\n",
    "print(y_train.shape, y_val.shape, y_test.shape)"
   ]
  },
  {
   "cell_type": "code",
   "execution_count": null,
   "metadata": {},
   "outputs": [],
   "source": [
    "# Custom metric for evaluating since only the final output matters.\n",
    "# During training it helped to use all outputs.\n",
    "def last_time_step_mse(Y_true, Y_pred):\n",
    "  return keras.metrics.mean_squared_error(Y_true[:, -1], Y_pred[:, -1])\n",
    "\n",
    "# sequence to sequence model\n",
    "model = keras.models.Sequential([\n",
    "  keras.layers.SimpleRNN(20, return_sequences=True, input_shape=[None, 1]),\n",
    "  keras.layers.SimpleRNN(20, return_sequences=True),\n",
    "  keras.layers.TimeDistributed(keras.layers.Dense(10))\n",
    "])\n",
    "\n",
    "model.compile(\n",
    "  loss=keras.losses.MSE,\n",
    "  metrics=[last_time_step_mse],\n",
    "  optimizer=keras.optimizers.Adam()\n",
    ")\n",
    "\n",
    "model.fit(X_train, y_train, epochs=20)\n",
    "print(tf.reduce_mean(last_time_step_mse(y_test, model.predict(X_test))))"
   ]
  },
  {
   "cell_type": "code",
   "execution_count": null,
   "metadata": {},
   "outputs": [],
   "source": [
    "# # NOT SURE WHY THIS DOESN'T WORK\n",
    "\n",
    "# class LNSimpleRNNCell(keras.layers.Layer):\n",
    "#   def __init__(self, units, activation='tanh', **kwargs):\n",
    "#     super().__init__(**kwargs)\n",
    "#     self.state_size = units\n",
    "#     self.output_size = units\n",
    "    \n",
    "#     self.layer_norm = keras.layers.LayerNormalization()\n",
    "#     self.activation = keras.activations.get(activation)\n",
    "  \n",
    "#   def build(self, batch_input_shape):\n",
    "#     print(batch_input_shape)\n",
    "#     self.simpleRNNCell = keras.layers.SimpleRNN(self.output_size, activation=None, input_shape=batch_input_shape)\n",
    "#     super().build(batch_input_shape)\n",
    "  \n",
    "#   def call(self, inputs, states):\n",
    "#     new_outputs, new_states = self.simpleRNNCell(inputs, states)\n",
    "#     normalized_outputs = self.activation(self.layer_norm(new_outputs))\n",
    "#     return normalized_outputs, [normalized_outputs]\n",
    "    "
   ]
  },
  {
   "cell_type": "code",
   "execution_count": null,
   "metadata": {},
   "outputs": [],
   "source": [
    "# # WON'T WORK BECAUSE OF ABOVE CELL\n",
    "# model = keras.models.Sequential([\n",
    "#   keras.layers.RNN(LNSimpleRNNCell(20), return_sequences=True, input_shape=[None, 1]),\n",
    "#   keras.layers.RNN(LNSimpleRNNCell(20), return_sequences=True),\n",
    "#   keras.layers.TimeDistributed(keras.layers.Dense(10))\n",
    "# ])\n",
    "\n",
    "# model.compile(\n",
    "#   loss=keras.losses.MSE,\n",
    "#   metrics=[last_time_step_mse],\n",
    "#   optimizer=keras.optimizers.Adam()\n",
    "# )\n",
    "\n",
    "# model.fit(X_train, y_train, epochs=20)\n",
    "# print(tf.reduce_mean(last_time_step_mse(y_test, model.predict(X_test))))"
   ]
  },
  {
   "cell_type": "code",
   "execution_count": null,
   "metadata": {},
   "outputs": [],
   "source": [
    "model = keras.models.Sequential([\n",
    "  keras.layers.LSTM(20, return_sequences=True),\n",
    "  keras.layers.LSTM(20, return_sequences=True),\n",
    "  keras.layers.TimeDistributed(keras.layers.Dense(10))\n",
    "])\n",
    "\n",
    "model.compile(\n",
    "  loss=keras.losses.MSE,\n",
    "  metrics=[last_time_step_mse],\n",
    "  optimizer=keras.optimizers.Adam()\n",
    ")\n",
    "\n",
    "model.fit(X_train, y_train, epochs=20)\n",
    "print(tf.reduce_mean(last_time_step_mse(y_test, model.predict(X_test))))"
   ]
  },
  {
   "cell_type": "code",
   "execution_count": null,
   "metadata": {},
   "outputs": [],
   "source": [
    "model = keras.models.Sequential([\n",
    "  keras.layers.Conv1D(filters=20, kernel_size=4, strides=2, padding='valid'),\n",
    "  keras.layers.GRU(20, return_sequences=True),\n",
    "  keras.layers.GRU(20, return_sequences=True),\n",
    "  keras.layers.TimeDistributed(keras.layers.Dense(10))\n",
    "])\n",
    "\n",
    "model.compile(\n",
    "  loss=keras.losses.MSE,\n",
    "  metrics=[last_time_step_mse],\n",
    "  optimizer=keras.optimizers.Adam()\n",
    ")\n",
    "\n",
    "model.fit(X_train, y_train[:, 3::2], epochs=20)\n",
    "print(tf.reduce_mean(last_time_step_mse(y_test[:, 3::2], model.predict(X_test))))"
   ]
  },
  {
   "cell_type": "code",
   "execution_count": null,
   "metadata": {},
   "outputs": [],
   "source": [
    "model = keras.models.Sequential()\n",
    "model.add(keras.layers.InputLayer(input_shape=[None, 1]))\n",
    "for dilation in [1, 2, 4, 8] * 2:\n",
    "  model.add(keras.layers.Conv1D(filters=20, kernel_size=2, padding='causal', activation='relu', dilation_rate=dilation))\n",
    "model.add(keras.layers.Conv1D(filters=10, kernel_size=1))\n",
    "\n",
    "model.compile(\n",
    "  loss=keras.losses.MSE,\n",
    "  metrics=[last_time_step_mse],\n",
    "  optimizer=keras.optimizers.Adam()\n",
    ")\n",
    "\n",
    "model.fit(X_train, y_train, epochs=20)\n",
    "print(tf.reduce_mean(last_time_step_mse(y_test, model.predict(X_test))))"
   ]
  },
  {
   "cell_type": "code",
   "execution_count": null,
   "metadata": {},
   "outputs": [],
   "source": [
    "print(y_test.shape, model.predict(X_test).shape)"
   ]
  },
  {
   "cell_type": "code",
   "execution_count": null,
   "metadata": {},
   "outputs": [],
   "source": [
    "import tensorflow_datasets as tfds\n",
    "\n",
    "dataset = tfds.load('imagenet_sketch', as_supervised=True)\n",
    "dataset = dataset['test']"
   ]
  },
  {
   "cell_type": "code",
   "execution_count": null,
   "metadata": {},
   "outputs": [],
   "source": [
    "train = dataset.take(40000)\n",
    "val = dataset.skip(40000).take(5000)\n",
    "test = dataset.skip(45000)\n",
    "print(len(train), len(val), len(test))"
   ]
  }
 ],
 "metadata": {
  "kernelspec": {
   "display_name": ".venv",
   "language": "python",
   "name": "python3"
  },
  "language_info": {
   "codemirror_mode": {
    "name": "ipython",
    "version": 3
   },
   "file_extension": ".py",
   "mimetype": "text/x-python",
   "name": "python",
   "nbconvert_exporter": "python",
   "pygments_lexer": "ipython3",
   "version": "3.10.9 (main, Dec 15 2022, 17:11:09) [Clang 14.0.0 (clang-1400.0.29.202)]"
  },
  "orig_nbformat": 4,
  "vscode": {
   "interpreter": {
    "hash": "9120ca18d9a6352a9f63d878cd22df8740658f703b5d617e89c0216f7e3927ea"
   }
  }
 },
 "nbformat": 4,
 "nbformat_minor": 2
}
