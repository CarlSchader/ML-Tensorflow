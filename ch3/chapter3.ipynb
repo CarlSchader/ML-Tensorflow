{
 "cells": [
  {
   "cell_type": "code",
   "execution_count": 1,
   "id": "07607cba",
   "metadata": {},
   "outputs": [
    {
     "name": "stdout",
     "output_type": "stream",
     "text": [
      "dict_keys(['data', 'target', 'frame', 'categories', 'feature_names', 'target_names', 'DESCR', 'details', 'url'])\n"
     ]
    }
   ],
   "source": [
    "from sklearn.datasets import fetch_openml\n",
    "mnist = fetch_openml('mnist_784', version=1)\n",
    "print(mnist.keys())"
   ]
  },
  {
   "cell_type": "code",
   "execution_count": 2,
   "id": "c994efa5",
   "metadata": {},
   "outputs": [
    {
     "name": "stdout",
     "output_type": "stream",
     "text": [
      "(70000, 784) (70000,)\n"
     ]
    }
   ],
   "source": [
    "X, y = mnist['data'].values, mnist['target'].values\n",
    "print(X.shape, y.shape)"
   ]
  },
  {
   "cell_type": "code",
   "execution_count": 3,
   "id": "e5b37b54",
   "metadata": {},
   "outputs": [
    {
     "data": {
      "image/png": "[encoded data removed]",
      "text/plain": [
       "<Figure size 432x288 with 1 Axes>"
      ]
     },
     "metadata": {
      "needs_background": "light"
     },
     "output_type": "display_data"
    },
    {
     "name": "stdout",
     "output_type": "stream",
     "text": [
      "5\n"
     ]
    }
   ],
   "source": [
    "import matplotlib as mpl\n",
    "import matplotlib.pyplot as plt\n",
    "\n",
    "some_digit = X[0]\n",
    "some_digit_image = some_digit.reshape(28,28)\n",
    "plt.imshow(some_digit_image, cmap='binary')\n",
    "plt.show()\n",
    "print(y[0])"
   ]
  },
  {
   "cell_type": "code",
   "execution_count": 4,
   "id": "28dadb47",
   "metadata": {},
   "outputs": [
    {
     "name": "stdout",
     "output_type": "stream",
     "text": [
      "[5 0 4 ... 4 5 6]\n"
     ]
    }
   ],
   "source": [
    "import numpy as np\n",
    "# cast targets to integers\n",
    "y = y.astype(np.uint8)\n",
    "print(y)"
   ]
  },
  {
   "cell_type": "code",
   "execution_count": 5,
   "id": "01ceb4fa",
   "metadata": {},
   "outputs": [
    {
     "name": "stdout",
     "output_type": "stream",
     "text": [
      "(60000, 784) (10000, 784) (60000,) (10000,)\n"
     ]
    }
   ],
   "source": [
    "Xtrain, Xtest, ytrain, ytest = X[:60000], X[60000:], y[:60000], y[60000:]\n",
    "print(Xtrain.shape, Xtest.shape, ytrain.shape, ytest.shape)"
   ]
  },
  {
   "cell_type": "code",
   "execution_count": 6,
   "id": "1d0dea4a",
   "metadata": {},
   "outputs": [
    {
     "name": "stdout",
     "output_type": "stream",
     "text": [
      "[ True False False False False False False False False False False  True\n",
      " False False False False False False False False] [5 0 4 1 9 2 1 3 1 4 3 5 3 6 1 7 2 8 6 9]\n"
     ]
    }
   ],
   "source": [
    "# Train a binary classifier for detecting just the number 5\n",
    "ytrain5 = (ytrain == 5) # vector that is true for all corresponding targets that equal 5 and false otherwise (cool operator)\n",
    "ytest5 = (ytest == 5)\n",
    "print(ytrain5[:20], ytrain[:20])"
   ]
  },
  {
   "cell_type": "code",
   "execution_count": 8,
   "id": "e8f4df47",
   "metadata": {},
   "outputs": [
    {
     "name": "stdout",
     "output_type": "stream",
     "text": [
      "[ True]\n"
     ]
    }
   ],
   "source": [
    "# stochastic gradient descent classifier\n",
    "from sklearn.linear_model import SGDClassifier\n",
    "sgd_clf = SGDClassifier(random_state=42)\n",
    "sgd_clf.fit(Xtrain, ytrain5)\n",
    "\n",
    "print(sgd_clf.predict([some_digit]))"
   ]
  },
  {
   "cell_type": "code",
   "execution_count": 9,
   "id": "9f4a2474",
   "metadata": {},
   "outputs": [
    {
     "name": "stdout",
     "output_type": "stream",
     "text": [
      "[0.95035 0.96035 0.9604 ]\n"
     ]
    }
   ],
   "source": [
    "# Evaluating performance using accuracy (bad metric because only 10% of data sets are 5s)\n",
    "from sklearn.model_selection import cross_val_score\n",
    "print(cross_val_score(sgd_clf, Xtrain, ytrain5, cv=3, scoring='accuracy'))"
   ]
  },
  {
   "cell_type": "code",
   "execution_count": 10,
   "id": "b73b0056",
   "metadata": {},
   "outputs": [
    {
     "name": "stdout",
     "output_type": "stream",
     "text": [
      "[0.91125 0.90855 0.90915]\n"
     ]
    }
   ],
   "source": [
    "# demonstrate that this classifier that always predicts false has above 90% accuracy\n",
    "from sklearn.base import BaseEstimator\n",
    "\n",
    "class Never5Classifier(BaseEstimator):\n",
    "    def fit(self, X, y=None):\n",
    "        return self\n",
    "    def predict(self, X):\n",
    "        return np.zeros((len(X), 1), dtype=bool)\n",
    "\n",
    "never5clf = Never5Classifier()\n",
    "print(cross_val_score(never5clf, Xtrain, ytrain5, cv=3, scoring='accuracy'))"
   ]
  },
  {
   "cell_type": "code",
   "execution_count": 12,
   "id": "8937b610",
   "metadata": {},
   "outputs": [
    {
     "name": "stdout",
     "output_type": "stream",
     "text": [
      "(60000,)\n"
     ]
    }
   ],
   "source": [
    "# gather predictions with kfolds and use to gen confusion matrix\n",
    "from sklearn.model_selection import cross_val_predict\n",
    "y_train_pred = cross_val_predict(sgd_clf, Xtrain, ytrain5, cv=3)\n",
    "print(y_train_pred.shape)"
   ]
  },
  {
   "cell_type": "code",
   "execution_count": 17,
   "id": "1d72efde",
   "metadata": {},
   "outputs": [
    {
     "name": "stdout",
     "output_type": "stream",
     "text": [
      "[[53892   687]\n",
      " [ 1891  3530]]\n"
     ]
    }
   ],
   "source": [
    "from sklearn.metrics import confusion_matrix\n",
    "m = confusion_matrix(ytrain5, y_train_pred)\n",
    "print(confusion_matrix(ytrain5, y_train_pred))"
   ]
  },
  {
   "cell_type": "code",
   "execution_count": 18,
   "id": "48ca0c6e",
   "metadata": {},
   "outputs": [
    {
     "name": "stdout",
     "output_type": "stream",
     "text": [
      "[[54579     0]\n",
      " [    0  5421]]\n"
     ]
    }
   ],
   "source": [
    "# Perfect results matrix\n",
    "print(confusion_matrix(ytrain5, ytrain5))"
   ]
  },
  {
   "cell_type": "code",
   "execution_count": 19,
   "id": "882358ca",
   "metadata": {},
   "outputs": [
    {
     "name": "stdout",
     "output_type": "stream",
     "text": [
      "accuracy or precision 0.8370879772350012\n",
      "recall 0.6511713705958311\n"
     ]
    }
   ],
   "source": [
    "print('accuracy or precision', m[1][1] / (m[0][1] + m[1][1]))\n",
    "print('recall', m[1][1] / (m[1][0] + m[1][1]))"
   ]
  },
  {
   "cell_type": "code",
   "execution_count": 20,
   "id": "17f9454c",
   "metadata": {},
   "outputs": [
    {
     "name": "stdout",
     "output_type": "stream",
     "text": [
      "0.8370879772350012\n",
      "0.6511713705958311\n"
     ]
    }
   ],
   "source": [
    "# or from sklearn\n",
    "from sklearn.metrics import precision_score, recall_score\n",
    "print(precision_score(ytrain5, y_train_pred))\n",
    "print(recall_score(ytrain5, y_train_pred))"
   ]
  },
  {
   "cell_type": "code",
   "execution_count": 22,
   "id": "d80d00eb",
   "metadata": {},
   "outputs": [
    {
     "name": "stdout",
     "output_type": "stream",
     "text": [
      "f1 score 0.7325171197343847\n",
      "0.7325171197343846\n"
     ]
    }
   ],
   "source": [
    "# harmonic mean n / (sum(1/X))\n",
    "print('f1 score', m[1][1] / (m[1][1] + ((m[0][1] + m[1][0]) / 2)))\n",
    "# or with sklearn\n",
    "from sklearn.metrics import f1_score\n",
    "print(f1_score(ytrain5, y_train_pred))"
   ]
  },
  {
   "cell_type": "code",
   "execution_count": 24,
   "id": "879feaf0",
   "metadata": {},
   "outputs": [
    {
     "name": "stdout",
     "output_type": "stream",
     "text": [
      "[  1200.93051237 -26883.79202424 -33072.03475406 ...  13272.12718981\n",
      "  -7258.47203373 -16877.50840447]\n"
     ]
    }
   ],
   "source": [
    "y_scores = cross_val_predict(sgd_clf, Xtrain, ytrain5, cv=3, method='decision_function')\n",
    "print(y_scores)"
   ]
  },
  {
   "cell_type": "code",
   "execution_count": 29,
   "id": "15ac9606",
   "metadata": {},
   "outputs": [
    {
     "name": "stdout",
     "output_type": "stream",
     "text": [
      "[0.09035    0.09035151 0.09035301 ... 1.         1.         1.        ]\n",
      "[1.00000000e+00 1.00000000e+00 1.00000000e+00 ... 3.68935621e-04\n",
      " 1.84467810e-04 0.00000000e+00]\n",
      "[-146348.56726174 -142300.00705404 -137588.97581744 ...   38871.26391927\n",
      "   42216.05562787   49441.43765905]\n"
     ]
    },
    {
     "data": {
      "image/png": "[encoded data removed]",
      "text/plain": [
       "<Figure size 432x288 with 1 Axes>"
      ]
     },
     "metadata": {
      "needs_background": "light"
     },
     "output_type": "display_data"
    }
   ],
   "source": [
    "from sklearn.metrics import precision_recall_curve\n",
    "precisions, recalls, thresholds = precision_recall_curve(ytrain5, y_scores)\n",
    "print(precisions)\n",
    "print(recalls)\n",
    "print(thresholds)\n",
    "\n",
    "def plot_precision_vs_recall(precisions, recalls, thresholds):\n",
    "    plt.plot(thresholds, precisions[1:], 'b--', label='Precision')\n",
    "    plt.plot(thresholds, recalls[1:], 'g-', label='Recall')\n",
    "\n",
    "plot_precision_vs_recall(precisions, recalls, thresholds)\n",
    "plt.show()"
   ]
  },
  {
   "cell_type": "code",
   "execution_count": 30,
   "id": "ceb67049",
   "metadata": {},
   "outputs": [
    {
     "data": {
      "image/png": "[encoded data removed]",
      "text/plain": [
       "<Figure size 432x288 with 1 Axes>"
      ]
     },
     "metadata": {
      "needs_background": "light"
     },
     "output_type": "display_data"
    }
   ],
   "source": [
    "# plot precision over recall\n",
    "plt.plot(recalls, precisions, 'b-')\n",
    "plt.show()"
   ]
  },
  {
   "cell_type": "code",
   "execution_count": 33,
   "id": "59c95834",
   "metadata": {},
   "outputs": [
    {
     "name": "stdout",
     "output_type": "stream",
     "text": [
      "lowest threshold with precision above 90 3370.0194991439566\n"
     ]
    }
   ],
   "source": [
    "threshold_90_precision = thresholds[np.argmax(precisions >= 0.90)]\n",
    "print('lowest threshold with precision above 90', threshold_90_precision)"
   ]
  },
  {
   "cell_type": "code",
   "execution_count": 35,
   "id": "8c0b5f50",
   "metadata": {},
   "outputs": [
    {
     "name": "stdout",
     "output_type": "stream",
     "text": [
      "0.9000345901072293\n",
      "0.4799852425751706\n"
     ]
    }
   ],
   "source": [
    "y_train_90 = (y_scores >= threshold_90_precision)\n",
    "print(precision_score(ytrain5, y_train_90))\n",
    "print(recall_score(ytrain5, y_train_90))"
   ]
  },
  {
   "cell_type": "code",
   "execution_count": 36,
   "id": "9ee8965a",
   "metadata": {},
   "outputs": [
    {
     "data": {
      "image/png": "[encoded data removed]",
      "text/plain": [
       "<Figure size 432x288 with 1 Axes>"
      ]
     },
     "metadata": {
      "needs_background": "light"
     },
     "output_type": "display_data"
    }
   ],
   "source": [
    "from sklearn.metrics import roc_curve\n",
    "fpr, tpr, thresholds = roc_curve(ytrain5, y_scores)\n",
    "plt.plot(fpr, tpr, linewidth=2)\n",
    "plt.plot([0, 1], [0, 1], 'k--')\n",
    "plt.show()"
   ]
  },
  {
   "cell_type": "code",
   "execution_count": 37,
   "id": "6fd9969a",
   "metadata": {},
   "outputs": [
    {
     "data": {
      "text/plain": [
       "0.9604938554008616"
      ]
     },
     "execution_count": 37,
     "metadata": {},
     "output_type": "execute_result"
    }
   ],
   "source": [
    "from sklearn.metrics import roc_auc_score\n",
    "roc_auc_score(ytrain5, y_scores)"
   ]
  },
  {
   "cell_type": "code",
   "execution_count": 39,
   "id": "02f876a4",
   "metadata": {},
   "outputs": [
    {
     "data": {
      "image/png": "[encoded data removed]",
      "text/plain": [
       "<Figure size 432x288 with 1 Axes>"
      ]
     },
     "metadata": {
      "needs_background": "light"
     },
     "output_type": "display_data"
    }
   ],
   "source": [
    "# random forest classifier\n",
    "from sklearn.ensemble import RandomForestClassifier\n",
    "forest_clf = RandomForestClassifier(random_state=42)\n",
    "y_probas_forest = cross_val_predict(forest_clf, Xtrain, ytrain5, cv=3, method='predict_proba')\n"
   ]
  },
  {
   "cell_type": "code",
   "execution_count": 40,
   "id": "ff5873fa",
   "metadata": {},
   "outputs": [
    {
     "data": {
      "image/png": "[encoded data removed]",
      "text/plain": [
       "<Figure size 432x288 with 1 Axes>"
      ]
     },
     "metadata": {
      "needs_background": "light"
     },
     "output_type": "display_data"
    },
    {
     "name": "stdout",
     "output_type": "stream",
     "text": [
      "SGD 0.9604938554008616\n",
      "forest 0.9983436731328145\n"
     ]
    }
   ],
   "source": [
    "# roc curve function expects decision scores but it can also take probabilities\n",
    "y_scores_forest = y_probas_forest[:, 1] # using positive class (5s) probabilities as scores\n",
    "fpr_forest, tpr_forest, thresholds = roc_curve(ytrain5, y_scores_forest)\n",
    "plt.plot(fpr, tpr, 'b:', label='SGD')\n",
    "plt.plot(fpr_forest, tpr_forest, linewidth=2, label='forest')\n",
    "plt.plot([0, 1], [0, 1], 'k--')\n",
    "plt.show()\n",
    "\n",
    "print('SGD', roc_auc_score(ytrain5, y_scores))\n",
    "print('forest', roc_auc_score(ytrain5, y_scores_forest))"
   ]
  },
  {
   "cell_type": "code",
   "execution_count": 44,
   "id": "3c54154e",
   "metadata": {},
   "outputs": [
    {
     "data": {
      "image/png": "[encoded data removed]",
      "text/plain": [
       "<Figure size 432x288 with 1 Axes>"
      ]
     },
     "metadata": {
      "needs_background": "light"
     },
     "output_type": "display_data"
    }
   ],
   "source": [
    "p, r, t = precision_recall_curve(ytrain5, y_scores_forest)\n",
    "plot_precision_vs_recall(p, r, t)\n",
    "\n",
    "plt.show()"
   ]
  },
  {
   "cell_type": "code",
   "execution_count": 45,
   "id": "721d2113",
   "metadata": {},
   "outputs": [
    {
     "name": "stdout",
     "output_type": "stream",
     "text": [
      "[5]\n"
     ]
    }
   ],
   "source": [
    "# multinomial classifier\n",
    "from sklearn.svm import SVC\n",
    "svm_clf = SVC()\n",
    "svm_clf.fit(Xtrain, ytrain)\n",
    "print(svm_clf.predict([some_digit]))"
   ]
  },
  {
   "cell_type": "code",
   "execution_count": 46,
   "id": "3cd951f1",
   "metadata": {},
   "outputs": [
    {
     "data": {
      "text/plain": [
       "array([3], dtype=uint8)"
      ]
     },
     "execution_count": 46,
     "metadata": {},
     "output_type": "execute_result"
    }
   ],
   "source": [
    "sgd_clf.fit(Xtrain, ytrain)\n",
    "sgd_clf.predict([some_digit])"
   ]
  },
  {
   "cell_type": "code",
   "execution_count": 48,
   "id": "54f03d48",
   "metadata": {},
   "outputs": [
    {
     "name": "stdout",
     "output_type": "stream",
     "text": [
      "5 [  0.   0.   0.   0.   0.   0.   0.   0.   0.   0.   0.   0.   0.   0.\n",
      "   0.   0.   0.   0.   0.   0.   0.   0.   0.   0.   0.   0.   0.   0.\n",
      "   0.   0.   0.   0.   0.   0.   0.   0.   0.   0.   0.   0.   0.   0.\n",
      "   0.   0.   0.   0.   0.   0.   0.   0.   0.   0.   0.   0.   0.   0.\n",
      "   0.   0.   0.   0.   0.   0.   0.   0.   0.   0.   0.   0.   0.   0.\n",
      "   0.   0.   0.   0.   0.   0.   0.   0.   0.   0.   0.   0.   0.   0.\n",
      "   0.   0.   0.   0.   0.   0.   0.   0.   0.   0.   0.   0.   0.   0.\n",
      "   0.   0.   0.   0.   0.   0.   0.   0.   0.   0.   0.   0.   0.   0.\n",
      "   0.   0.   0.   0.   0.   0.   0.   0.   0.   0.   0.   0.   0.   0.\n",
      "   0.   0.   0.   0.   0.   0.   0.   0.   0.   0.   0.   0.   0.   0.\n",
      "   0.   0.   0.   0.   0.   0.   0.   0.   0.   0.   0.   0.   3.  18.\n",
      "  18.  18. 126. 136. 175.  26. 166. 255. 247. 127.   0.   0.   0.   0.\n",
      "   0.   0.   0.   0.   0.   0.   0.   0.  30.  36.  94. 154. 170. 253.\n",
      " 253. 253. 253. 253. 225. 172. 253. 242. 195.  64.   0.   0.   0.   0.\n",
      "   0.   0.   0.   0.   0.   0.   0.  49. 238. 253. 253. 253. 253. 253.\n",
      " 253. 253. 253. 251.  93.  82.  82.  56.  39.   0.   0.   0.   0.   0.\n",
      "   0.   0.   0.   0.   0.   0.   0.  18. 219. 253. 253. 253. 253. 253.\n",
      " 198. 182. 247. 241.   0.   0.   0.   0.   0.   0.   0.   0.   0.   0.\n",
      "   0.   0.   0.   0.   0.   0.   0.   0.  80. 156. 107. 253. 253. 205.\n",
      "  11.   0.  43. 154.   0.   0.   0.   0.   0.   0.   0.   0.   0.   0.\n",
      "   0.   0.   0.   0.   0.   0.   0.   0.   0.  14.   1. 154. 253.  90.\n",
      "   0.   0.   0.   0.   0.   0.   0.   0.   0.   0.   0.   0.   0.   0.\n",
      "   0.   0.   0.   0.   0.   0.   0.   0.   0.   0.   0. 139. 253. 190.\n",
      "   2.   0.   0.   0.   0.   0.   0.   0.   0.   0.   0.   0.   0.   0.\n",
      "   0.   0.   0.   0.   0.   0.   0.   0.   0.   0.   0.  11. 190. 253.\n",
      "  70.   0.   0.   0.   0.   0.   0.   0.   0.   0.   0.   0.   0.   0.\n",
      "   0.   0.   0.   0.   0.   0.   0.   0.   0.   0.   0.   0.  35. 241.\n",
      " 225. 160. 108.   1.   0.   0.   0.   0.   0.   0.   0.   0.   0.   0.\n",
      "   0.   0.   0.   0.   0.   0.   0.   0.   0.   0.   0.   0.   0.  81.\n",
      " 240. 253. 253. 119.  25.   0.   0.   0.   0.   0.   0.   0.   0.   0.\n",
      "   0.   0.   0.   0.   0.   0.   0.   0.   0.   0.   0.   0.   0.   0.\n",
      "  45. 186. 253. 253. 150.  27.   0.   0.   0.   0.   0.   0.   0.   0.\n",
      "   0.   0.   0.   0.   0.   0.   0.   0.   0.   0.   0.   0.   0.   0.\n",
      "   0.  16.  93. 252. 253. 187.   0.   0.   0.   0.   0.   0.   0.   0.\n",
      "   0.   0.   0.   0.   0.   0.   0.   0.   0.   0.   0.   0.   0.   0.\n",
      "   0.   0.   0. 249. 253. 249.  64.   0.   0.   0.   0.   0.   0.   0.\n",
      "   0.   0.   0.   0.   0.   0.   0.   0.   0.   0.   0.   0.   0.   0.\n",
      "  46. 130. 183. 253. 253. 207.   2.   0.   0.   0.   0.   0.   0.   0.\n",
      "   0.   0.   0.   0.   0.   0.   0.   0.   0.   0.   0.   0.  39. 148.\n",
      " 229. 253. 253. 253. 250. 182.   0.   0.   0.   0.   0.   0.   0.   0.\n",
      "   0.   0.   0.   0.   0.   0.   0.   0.   0.   0.  24. 114. 221. 253.\n",
      " 253. 253. 253. 201.  78.   0.   0.   0.   0.   0.   0.   0.   0.   0.\n",
      "   0.   0.   0.   0.   0.   0.   0.   0.  23.  66. 213. 253. 253. 253.\n",
      " 253. 198.  81.   2.   0.   0.   0.   0.   0.   0.   0.   0.   0.   0.\n",
      "   0.   0.   0.   0.   0.   0.  18. 171. 219. 253. 253. 253. 253. 195.\n",
      "  80.   9.   0.   0.   0.   0.   0.   0.   0.   0.   0.   0.   0.   0.\n",
      "   0.   0.   0.   0.  55. 172. 226. 253. 253. 253. 253. 244. 133.  11.\n",
      "   0.   0.   0.   0.   0.   0.   0.   0.   0.   0.   0.   0.   0.   0.\n",
      "   0.   0.   0.   0. 136. 253. 253. 253. 212. 135. 132.  16.   0.   0.\n",
      "   0.   0.   0.   0.   0.   0.   0.   0.   0.   0.   0.   0.   0.   0.\n",
      "   0.   0.   0.   0.   0.   0.   0.   0.   0.   0.   0.   0.   0.   0.\n",
      "   0.   0.   0.   0.   0.   0.   0.   0.   0.   0.   0.   0.   0.   0.\n",
      "   0.   0.   0.   0.   0.   0.   0.   0.   0.   0.   0.   0.   0.   0.\n",
      "   0.   0.   0.   0.   0.   0.   0.   0.   0.   0.   0.   0.   0.   0.\n",
      "   0.   0.   0.   0.   0.   0.   0.   0.   0.   0.   0.   0.   0.   0.\n",
      "   0.   0.   0.   0.   0.   0.   0.   0.   0.   0.   0.   0.   0.   0.]\n"
     ]
    }
   ],
   "source": [
    "print(ytrain[0], Xtrain[0])"
   ]
  },
  {
   "cell_type": "code",
   "execution_count": 47,
   "id": "75f3c4e1",
   "metadata": {},
   "outputs": [
    {
     "data": {
      "text/plain": [
       "array([0.87365, 0.85835, 0.8689 ])"
      ]
     },
     "execution_count": 47,
     "metadata": {},
     "output_type": "execute_result"
    }
   ],
   "source": [
    "cross_val_score(sgd_clf, Xtrain, ytrain, cv=3, scoring='accuracy')"
   ]
  },
  {
   "cell_type": "code",
   "execution_count": 50,
   "id": "7266eed4",
   "metadata": {},
   "outputs": [
    {
     "data": {
      "text/plain": [
       "array([0.8983, 0.891 , 0.9018])"
      ]
     },
     "execution_count": 50,
     "metadata": {},
     "output_type": "execute_result"
    }
   ],
   "source": [
    "from sklearn.preprocessing import StandardScaler\n",
    "scaler = StandardScaler()\n",
    "Xscaled = scaler.fit_transform(Xtrain.astype(np.float64))\n",
    "cross_val_score(sgd_clf, Xscaled, ytrain, cv=3, scoring='accuracy')"
   ]
  },
  {
   "cell_type": "code",
   "execution_count": 51,
   "id": "cef5e6a3",
   "metadata": {},
   "outputs": [
    {
     "name": "stdout",
     "output_type": "stream",
     "text": [
      "[[5577    0   22    5    8   43   36    6  225    1]\n",
      " [   0 6400   37   24    4   44    4    7  212   10]\n",
      " [  27   27 5220   92   73   27   67   36  378   11]\n",
      " [  22   17  117 5227    2  203   27   40  403   73]\n",
      " [  12   14   41    9 5182   12   34   27  347  164]\n",
      " [  27   15   30  168   53 4444   75   14  535   60]\n",
      " [  30   15   42    3   44   97 5552    3  131    1]\n",
      " [  21   10   51   30   49   12    3 5684  195  210]\n",
      " [  17   63   48   86    3  126   25   10 5429   44]\n",
      " [  25   18   30   64  118   36    1  179  371 5107]]\n"
     ]
    }
   ],
   "source": [
    "ytrainpred = cross_val_predict(sgd_clf, Xscaled, ytrain, cv=3)\n",
    "matrix = confusion_matrix(ytrain, ytrainpred)\n",
    "print(matrix)"
   ]
  },
  {
   "cell_type": "code",
   "execution_count": 52,
   "id": "29e6982a",
   "metadata": {},
   "outputs": [
    {
     "data": {
      "image/png": "[encoded data removed]",
      "text/plain": [
       "<Figure size 288x288 with 1 Axes>"
      ]
     },
     "metadata": {
      "needs_background": "light"
     },
     "output_type": "display_data"
    }
   ],
   "source": [
    "plt.matshow(matrix, cmap=plt.cm.gray)\n",
    "plt.show()"
   ]
  },
  {
   "cell_type": "code",
   "execution_count": 55,
   "id": "eb432c5f",
   "metadata": {},
   "outputs": [
    {
     "name": "stdout",
     "output_type": "stream",
     "text": [
      "[[5923]\n",
      " [6742]\n",
      " [5958]\n",
      " [6131]\n",
      " [5842]\n",
      " [5421]\n",
      " [5918]\n",
      " [6265]\n",
      " [5851]\n",
      " [5949]]\n",
      "[[9.41583657e-01 0.00000000e+00 3.71433395e-03 8.44166807e-04\n",
      "  1.35066689e-03 7.25983454e-03 6.07800101e-03 1.01300017e-03\n",
      "  3.79875063e-02 1.68833361e-04]\n",
      " [0.00000000e+00 9.49273213e-01 5.48798576e-03 3.55977455e-03\n",
      "  5.93295758e-04 6.52625334e-03 5.93295758e-04 1.03826758e-03\n",
      "  3.14446752e-02 1.48323939e-03]\n",
      " [4.53172205e-03 4.53172205e-03 8.76132931e-01 1.54414233e-02\n",
      "  1.22524337e-02 4.53172205e-03 1.12453844e-02 6.04229607e-03\n",
      "  6.34441088e-02 1.84625713e-03]\n",
      " [3.58832164e-03 2.77279400e-03 1.90833469e-02 8.52552602e-01\n",
      "  3.26211059e-04 3.31104224e-02 4.40384929e-03 6.52422117e-03\n",
      "  6.57315283e-02 1.19067036e-02]\n",
      " [2.05409106e-03 2.39643958e-03 7.01814447e-03 1.54056830e-03\n",
      "  8.87024991e-01 2.05409106e-03 5.81992468e-03 4.62170490e-03\n",
      "  5.93974666e-02 2.80725779e-02]\n",
      " [4.98063088e-03 2.76701716e-03 5.53403431e-03 3.09905921e-02\n",
      "  9.77679395e-03 8.19774949e-01 1.38350858e-02 2.58254935e-03\n",
      "  9.86902785e-02 1.10680686e-02]\n",
      " [5.06928016e-03 2.53464008e-03 7.09699223e-03 5.06928016e-04\n",
      "  7.43494424e-03 1.63906725e-02 9.38154782e-01 5.06928016e-04\n",
      "  2.21358567e-02 1.68976005e-04]\n",
      " [3.35195531e-03 1.59616919e-03 8.14046289e-03 4.78850758e-03\n",
      "  7.82122905e-03 1.91540303e-03 4.78850758e-04 9.07262570e-01\n",
      "  3.11252993e-02 3.35195531e-02]\n",
      " [2.90548624e-03 1.07673902e-02 8.20372586e-03 1.46983422e-02\n",
      "  5.12732866e-04 2.15347804e-02 4.27277388e-03 1.70910955e-03\n",
      "  9.27875577e-01 7.52008204e-03]\n",
      " [4.20238696e-03 3.02571861e-03 5.04286435e-03 1.07581106e-02\n",
      "  1.98352664e-02 6.05143722e-03 1.68095478e-04 3.00890906e-02\n",
      "  6.23634224e-02 8.58463607e-01]]\n"
     ]
    },
    {
     "data": {
      "image/png": "[encoded data removed]",
      "text/plain": [
       "<Figure size 288x288 with 1 Axes>"
      ]
     },
     "metadata": {
      "needs_background": "light"
     },
     "output_type": "display_data"
    }
   ],
   "source": [
    "row_sums = matrix.sum(axis=1, keepdims=True)\n",
    "print(row_sums)\n",
    "norm_mx = matrix / row_sums\n",
    "print(norm_mx)\n",
    "np.fill_diagonal(norm_mx, 0)\n",
    "plt.matshow(norm_mx, cmap=plt.cm.gray)\n",
    "plt.show()"
   ]
  },
  {
   "cell_type": "code",
   "execution_count": 57,
   "id": "a84a2fe7",
   "metadata": {},
   "outputs": [
    {
     "ename": "NameError",
     "evalue": "name 'plot_digits' is not defined",
     "output_type": "error",
     "traceback": [
      "\u001b[0;31m---------------------------------------------------------------------------\u001b[0m",
      "\u001b[0;31mNameError\u001b[0m                                 Traceback (most recent call last)",
      "Input \u001b[0;32mIn [57]\u001b[0m, in \u001b[0;36m<cell line: 9>\u001b[0;34m()\u001b[0m\n\u001b[1;32m      6\u001b[0m Xbb \u001b[38;5;241m=\u001b[39m Xtrain[(ytrain \u001b[38;5;241m==\u001b[39m clb) \u001b[38;5;241m&\u001b[39m (ytrainpred \u001b[38;5;241m==\u001b[39m clb)]\n\u001b[1;32m      8\u001b[0m plt\u001b[38;5;241m.\u001b[39mfigure(figsize\u001b[38;5;241m=\u001b[39m(\u001b[38;5;241m8\u001b[39m,\u001b[38;5;241m8\u001b[39m))\n\u001b[0;32m----> 9\u001b[0m plt\u001b[38;5;241m.\u001b[39msubplot(\u001b[38;5;241m221\u001b[39m); \u001b[43mplot_digits\u001b[49m(Xaa[:\u001b[38;5;241m25\u001b[39m], images_per_row\u001b[38;5;241m=\u001b[39m\u001b[38;5;241m5\u001b[39m)\n\u001b[1;32m     10\u001b[0m plt\u001b[38;5;241m.\u001b[39msubplot(\u001b[38;5;241m222\u001b[39m); plot_digits(Xab[:\u001b[38;5;241m25\u001b[39m], images_per_row\u001b[38;5;241m=\u001b[39m\u001b[38;5;241m5\u001b[39m)\n\u001b[1;32m     11\u001b[0m plt\u001b[38;5;241m.\u001b[39msubplot(\u001b[38;5;241m223\u001b[39m); plot_digits(Xba[:\u001b[38;5;241m25\u001b[39m], images_per_row\u001b[38;5;241m=\u001b[39m\u001b[38;5;241m5\u001b[39m)\n",
      "\u001b[0;31mNameError\u001b[0m: name 'plot_digits' is not defined"
     ]
    },
    {
     "data": {
      "image/png": "[encoded data removed]",
      "text/plain": [
       "<Figure size 576x576 with 1 Axes>"
      ]
     },
     "metadata": {
      "needs_background": "light"
     },
     "output_type": "display_data"
    }
   ],
   "source": [
    "# # plot images\n",
    "# cla, clb = 3, 5\n",
    "# Xaa = Xtrain[(ytrain == cla) & (ytrainpred == cla)]\n",
    "# Xab = Xtrain[(ytrain == cla) & (ytrainpred == clb)]\n",
    "# Xba = Xtrain[(ytrain == clb) & (ytrainpred == cla)]\n",
    "# Xbb = Xtrain[(ytrain == clb) & (ytrainpred == clb)]\n",
    "\n",
    "# plt.figure(figsize=(8,8))\n",
    "# plt.subplot(221); plot_digits(Xaa[:25], images_per_row=5)\n",
    "# plt.subplot(222); plot_digits(Xab[:25], images_per_row=5)\n",
    "# plt.subplot(223); plot_digits(Xba[:25], images_per_row=5)\n",
    "# plt.subplot(224); plot_digits(Xbb[:25], images_per_row=5)\n",
    "# plt.show()"
   ]
  },
  {
   "cell_type": "code",
   "execution_count": 99,
   "id": "12e43925",
   "metadata": {},
   "outputs": [
    {
     "data": {
      "text/html": [
       "<style>#sk-container-id-3 {color: black;background-color: white;}#sk-container-id-3 pre{padding: 0;}#sk-container-id-3 div.sk-toggleable {background-color: white;}#sk-container-id-3 label.sk-toggleable__label {cursor: pointer;display: block;width: 100%;margin-bottom: 0;padding: 0.3em;box-sizing: border-box;text-align: center;}#sk-container-id-3 label.sk-toggleable__label-arrow:before {content: \"▸\";float: left;margin-right: 0.25em;color: #696969;}#sk-container-id-3 label.sk-toggleable__label-arrow:hover:before {color: black;}#sk-container-id-3 div.sk-estimator:hover label.sk-toggleable__label-arrow:before {color: black;}#sk-container-id-3 div.sk-toggleable__content {max-height: 0;max-width: 0;overflow: hidden;text-align: left;background-color: #f0f8ff;}#sk-container-id-3 div.sk-toggleable__content pre {margin: 0.2em;color: black;border-radius: 0.25em;background-color: #f0f8ff;}#sk-container-id-3 input.sk-toggleable__control:checked~div.sk-toggleable__content {max-height: 200px;max-width: 100%;overflow: auto;}#sk-container-id-3 input.sk-toggleable__control:checked~label.sk-toggleable__label-arrow:before {content: \"▾\";}#sk-container-id-3 div.sk-estimator input.sk-toggleable__control:checked~label.sk-toggleable__label {background-color: #d4ebff;}#sk-container-id-3 div.sk-label input.sk-toggleable__control:checked~label.sk-toggleable__label {background-color: #d4ebff;}#sk-container-id-3 input.sk-hidden--visually {border: 0;clip: rect(1px 1px 1px 1px);clip: rect(1px, 1px, 1px, 1px);height: 1px;margin: -1px;overflow: hidden;padding: 0;position: absolute;width: 1px;}#sk-container-id-3 div.sk-estimator {font-family: monospace;background-color: #f0f8ff;border: 1px dotted black;border-radius: 0.25em;box-sizing: border-box;margin-bottom: 0.5em;}#sk-container-id-3 div.sk-estimator:hover {background-color: #d4ebff;}#sk-container-id-3 div.sk-parallel-item::after {content: \"\";width: 100%;border-bottom: 1px solid gray;flex-grow: 1;}#sk-container-id-3 div.sk-label:hover label.sk-toggleable__label {background-color: #d4ebff;}#sk-container-id-3 div.sk-serial::before {content: \"\";position: absolute;border-left: 1px solid gray;box-sizing: border-box;top: 0;bottom: 0;left: 50%;z-index: 0;}#sk-container-id-3 div.sk-serial {display: flex;flex-direction: column;align-items: center;background-color: white;padding-right: 0.2em;padding-left: 0.2em;position: relative;}#sk-container-id-3 div.sk-item {position: relative;z-index: 1;}#sk-container-id-3 div.sk-parallel {display: flex;align-items: stretch;justify-content: center;background-color: white;position: relative;}#sk-container-id-3 div.sk-item::before, #sk-container-id-3 div.sk-parallel-item::before {content: \"\";position: absolute;border-left: 1px solid gray;box-sizing: border-box;top: 0;bottom: 0;left: 50%;z-index: -1;}#sk-container-id-3 div.sk-parallel-item {display: flex;flex-direction: column;z-index: 1;position: relative;background-color: white;}#sk-container-id-3 div.sk-parallel-item:first-child::after {align-self: flex-end;width: 50%;}#sk-container-id-3 div.sk-parallel-item:last-child::after {align-self: flex-start;width: 50%;}#sk-container-id-3 div.sk-parallel-item:only-child::after {width: 0;}#sk-container-id-3 div.sk-dashed-wrapped {border: 1px dashed gray;margin: 0 0.4em 0.5em 0.4em;box-sizing: border-box;padding-bottom: 0.4em;background-color: white;}#sk-container-id-3 div.sk-label label {font-family: monospace;font-weight: bold;display: inline-block;line-height: 1.2em;}#sk-container-id-3 div.sk-label-container {text-align: center;}#sk-container-id-3 div.sk-container {/* jupyter's `normalize.less` sets `[hidden] { display: none; }` but bootstrap.min.css set `[hidden] { display: none !important; }` so we also need the `!important` here to be able to override the default hidden behavior on the sphinx rendered scikit-learn.org. See: https://github.com/scikit-learn/scikit-learn/issues/21755 */display: inline-block !important;position: relative;}#sk-container-id-3 div.sk-text-repr-fallback {display: none;}</style><div id=\"sk-container-id-3\" class=\"sk-top-container\"><div class=\"sk-text-repr-fallback\"><pre>GridSearchCV(cv=3, estimator=KNeighborsClassifier(),\n",
       "             param_grid={&#x27;n_neighbors&#x27;: [4, 5, 10, 15, 25, 50],\n",
       "                         &#x27;weights&#x27;: [&#x27;uniform&#x27;, &#x27;distance&#x27;]},\n",
       "             scoring=&#x27;accuracy&#x27;)</pre><b>In a Jupyter environment, please rerun this cell to show the HTML representation or trust the notebook. <br />On GitHub, the HTML representation is unable to render, please try loading this page with nbviewer.org.</b></div><div class=\"sk-container\" hidden><div class=\"sk-item sk-dashed-wrapped\"><div class=\"sk-label-container\"><div class=\"sk-label sk-toggleable\"><input class=\"sk-toggleable__control sk-hidden--visually\" id=\"sk-estimator-id-7\" type=\"checkbox\" ><label for=\"sk-estimator-id-7\" class=\"sk-toggleable__label sk-toggleable__label-arrow\">GridSearchCV</label><div class=\"sk-toggleable__content\"><pre>GridSearchCV(cv=3, estimator=KNeighborsClassifier(),\n",
       "             param_grid={&#x27;n_neighbors&#x27;: [4, 5, 10, 15, 25, 50],\n",
       "                         &#x27;weights&#x27;: [&#x27;uniform&#x27;, &#x27;distance&#x27;]},\n",
       "             scoring=&#x27;accuracy&#x27;)</pre></div></div></div><div class=\"sk-parallel\"><div class=\"sk-parallel-item\"><div class=\"sk-item\"><div class=\"sk-label-container\"><div class=\"sk-label sk-toggleable\"><input class=\"sk-toggleable__control sk-hidden--visually\" id=\"sk-estimator-id-8\" type=\"checkbox\" ><label for=\"sk-estimator-id-8\" class=\"sk-toggleable__label sk-toggleable__label-arrow\">estimator: KNeighborsClassifier</label><div class=\"sk-toggleable__content\"><pre>KNeighborsClassifier()</pre></div></div></div><div class=\"sk-serial\"><div class=\"sk-item\"><div class=\"sk-estimator sk-toggleable\"><input class=\"sk-toggleable__control sk-hidden--visually\" id=\"sk-estimator-id-9\" type=\"checkbox\" ><label for=\"sk-estimator-id-9\" class=\"sk-toggleable__label sk-toggleable__label-arrow\">KNeighborsClassifier</label><div class=\"sk-toggleable__content\"><pre>KNeighborsClassifier()</pre></div></div></div></div></div></div></div></div></div></div>"
      ],
      "text/plain": [
       "GridSearchCV(cv=3, estimator=KNeighborsClassifier(),\n",
       "             param_grid={'n_neighbors': [4, 5, 10, 15, 25, 50],\n",
       "                         'weights': ['uniform', 'distance']},\n",
       "             scoring='accuracy')"
      ]
     },
     "execution_count": 99,
     "metadata": {},
     "output_type": "execute_result"
    }
   ],
   "source": [
    "# Build classifier with 97% accuracy\n",
    "from sklearn.neighbors import KNeighborsClassifier\n",
    "from sklearn.model_selection import GridSearchCV\n",
    "parameters = {'n_neighbors': [4, 5, 10, 15, 25, 50], 'weights': ['uniform', 'distance']}\n",
    "clf = GridSearchCV(estimator=KNeighborsClassifier(), param_grid=parameters, cv=3, scoring='accuracy')\n",
    "clf.fit(Xscaled, ytrain)\n",
    "# cross_val_score(clf, Xscaled, ytrain, cv=3, scoring='accuracy')"
   ]
  },
  {
   "cell_type": "code",
   "execution_count": 100,
   "id": "65ecb1cc",
   "metadata": {},
   "outputs": [
    {
     "name": "stdout",
     "output_type": "stream",
     "text": [
      "{'mean_fit_time': array([0.09129008, 0.08159161, 0.08187207, 0.08415731, 0.0819993 ,\n",
      "       0.08266513, 0.08330512, 0.08525197, 0.08223438, 0.08268317,\n",
      "       0.08156967, 0.0858682 ]), 'std_fit_time': array([0.01277043, 0.00083971, 0.0015563 , 0.00312843, 0.00073186,\n",
      "       0.00086088, 0.0012016 , 0.00303849, 0.00081437, 0.00100361,\n",
      "       0.00033088, 0.00491826]), 'mean_score_time': array([4.8417906 , 4.6090397 , 4.73061164, 4.64982843, 4.71690774,\n",
      "       4.61822764, 4.74788491, 4.68245165, 4.76747696, 4.63666368,\n",
      "       4.82862353, 4.90155919]), 'std_score_time': array([0.05990147, 0.02729264, 0.01239572, 0.05604485, 0.01393228,\n",
      "       0.01821444, 0.01175238, 0.11397112, 0.03153058, 0.02889159,\n",
      "       0.05311579, 0.18009953]), 'param_n_neighbors': masked_array(data=[4, 4, 5, 5, 10, 10, 15, 15, 25, 25, 50, 50],\n",
      "             mask=[False, False, False, False, False, False, False, False,\n",
      "                   False, False, False, False],\n",
      "       fill_value='?',\n",
      "            dtype=object), 'param_weights': masked_array(data=['uniform', 'distance', 'uniform', 'distance',\n",
      "                   'uniform', 'distance', 'uniform', 'distance',\n",
      "                   'uniform', 'distance', 'uniform', 'distance'],\n",
      "             mask=[False, False, False, False, False, False, False, False,\n",
      "                   False, False, False, False],\n",
      "       fill_value='?',\n",
      "            dtype=object), 'params': [{'n_neighbors': 4, 'weights': 'uniform'}, {'n_neighbors': 4, 'weights': 'distance'}, {'n_neighbors': 5, 'weights': 'uniform'}, {'n_neighbors': 5, 'weights': 'distance'}, {'n_neighbors': 10, 'weights': 'uniform'}, {'n_neighbors': 10, 'weights': 'distance'}, {'n_neighbors': 15, 'weights': 'uniform'}, {'n_neighbors': 15, 'weights': 'distance'}, {'n_neighbors': 25, 'weights': 'uniform'}, {'n_neighbors': 25, 'weights': 'distance'}, {'n_neighbors': 50, 'weights': 'uniform'}, {'n_neighbors': 50, 'weights': 'distance'}], 'split0_test_score': array([0.93515, 0.9428 , 0.9376 , 0.9397 , 0.9317 , 0.935  , 0.928  ,\n",
      "       0.929  , 0.92055, 0.923  , 0.9085 , 0.9107 ]), 'split1_test_score': array([0.93895, 0.9442 , 0.9411 , 0.94285, 0.9361 , 0.9402 , 0.9306 ,\n",
      "       0.93205, 0.92285, 0.92505, 0.9119 , 0.9143 ]), 'split2_test_score': array([0.93795, 0.9443 , 0.9424 , 0.94375, 0.9369 , 0.94085, 0.93325,\n",
      "       0.9356 , 0.9279 , 0.9301 , 0.91695, 0.91835]), 'mean_test_score': array([0.93735   , 0.94376667, 0.94036667, 0.9421    , 0.9349    ,\n",
      "       0.93868333, 0.93061667, 0.93221667, 0.92376667, 0.92605   ,\n",
      "       0.91245   , 0.91445   ]), 'std_test_score': array([0.00160831, 0.00068475, 0.00202704, 0.00173638, 0.00228619,\n",
      "       0.00261799, 0.00214334, 0.00269701, 0.00306984, 0.00298357,\n",
      "       0.00347155, 0.0031249 ]), 'rank_test_score': array([ 5,  1,  3,  2,  6,  4,  8,  7, 10,  9, 12, 11], dtype=int32)}\n",
      "{'n_neighbors': 4, 'weights': 'distance'}\n"
     ]
    }
   ],
   "source": [
    "print(clf.cv_results_)\n",
    "best = clf.best_params_\n",
    "print(best)"
   ]
  },
  {
   "cell_type": "code",
   "execution_count": 101,
   "id": "ca3dd6f2",
   "metadata": {},
   "outputs": [],
   "source": [
    "knn = KNeighborsClassifier(**best)\n",
    "knn.fit(Xscaled, ytrain)\n",
    "Xscaledtest = scaler.fit_transform(Xtest.astype(np.float64))\n",
    "ypredtest = knn.predict(Xscaledtest)"
   ]
  },
  {
   "cell_type": "code",
   "execution_count": 103,
   "id": "9a4e3cd9",
   "metadata": {},
   "outputs": [
    {
     "name": "stdout",
     "output_type": "stream",
     "text": [
      "0.9474\n",
      "[0.95247525 0.95755518 0.96207585 0.92507205 0.95571576 0.93273543\n",
      " 0.96173733 0.93542074 0.9628821  0.92807193]\n",
      "[0.98163265 0.9938326  0.93410853 0.95346535 0.94501018 0.93273543\n",
      " 0.97077244 0.92996109 0.90554415 0.92071358]\n"
     ]
    }
   ],
   "source": [
    "from sklearn.metrics import accuracy_score, recall_score, precision_score\n",
    "print(accuracy_score(ytest, ypredtest))\n",
    "print(precision_score(ytest, ypredtest, average=None))\n",
    "print(recall_score(ytest, ypredtest, average=None))"
   ]
  },
  {
   "cell_type": "code",
   "execution_count": 133,
   "id": "81cb7acf",
   "metadata": {},
   "outputs": [
    {
     "data": {
      "image/png": "[encoded data removed]",
      "text/plain": [
       "<Figure size 432x288 with 1 Axes>"
      ]
     },
     "metadata": {
      "needs_background": "light"
     },
     "output_type": "display_data"
    },
    {
     "data": {
      "image/png": "[encoded data removed]",
      "text/plain": [
       "<Figure size 432x288 with 1 Axes>"
      ]
     },
     "metadata": {
      "needs_background": "light"
     },
     "output_type": "display_data"
    }
   ],
   "source": [
    "# shift image\n",
    "def shift_image(image, shape, up_pixels, right_pixels):\n",
    "    reshaped = image.reshape(shape)\n",
    "    reshaped = np.roll(reshaped, -up_pixels, axis=0)\n",
    "    reshaped = np.roll(reshaped, right_pixels, axis=1)\n",
    "    if up_pixels > 0:\n",
    "        reshaped[len(image):len(image) - up_pixels, :] = 0.0\n",
    "    elif up_pixels < 0:\n",
    "        reshaped[0:-up_pixels, :] = 0.0\n",
    "    if right_pixels > 0:\n",
    "        reshaped[:, 0:right_pixels] = 0.0\n",
    "    elif right_pixels < 0:\n",
    "        reshaped[:, shape[1] + right_pixels:] = 0.0\n",
    "    return reshaped.reshape(image.shape)\n",
    "\n",
    "image = Xtrain[0]\n",
    "shifted = shift_image(image, (28,28), 0, 10)\n",
    "plt.imshow(image.reshape(28,28), cmap='binary')\n",
    "plt.show()\n",
    "plt.imshow(shifted.reshape(28,28), cmap='binary')\n",
    "plt.show()\n"
   ]
  },
  {
   "cell_type": "code",
   "execution_count": 138,
   "id": "e15db2c6",
   "metadata": {},
   "outputs": [
    {
     "name": "stdout",
     "output_type": "stream",
     "text": [
      "(300000,) (300000, 784)\n"
     ]
    }
   ],
   "source": [
    "def shift_data(X, shape, up, right):\n",
    "    return [shift_image(xi, shape, up, right) for xi in X]\n",
    "\n",
    "Xshifted = scaler.fit_transform(np.concatenate((Xtrain, shift_data(Xtrain, (28,28), 1, 0), shift_data(Xtrain, (28,28), -1, 0), shift_data(Xtrain, (28,28), 0, 1), shift_data(Xtrain, (28,28), 0, -1))).astype(np.float64))\n",
    "yshifted = np.concatenate((ytrain, ytrain, ytrain, ytrain, ytrain))\n",
    "print(yshifted.shape, Xshifted.shape)\n"
   ]
  },
  {
   "cell_type": "code",
   "execution_count": 139,
   "id": "29202d36",
   "metadata": {},
   "outputs": [],
   "source": [
    "knn = KNeighborsClassifier(**best)\n",
    "knn.fit(Xshifted, yshifted)\n",
    "ypredtest = knn.predict(Xscaledtest)"
   ]
  },
  {
   "cell_type": "code",
   "execution_count": 140,
   "id": "2c0512b9",
   "metadata": {},
   "outputs": [
    {
     "name": "stdout",
     "output_type": "stream",
     "text": [
      "0.9567\n",
      "[0.96314741 0.95677966 0.96623635 0.94032724 0.96487603 0.93784684\n",
      " 0.97814776 0.94509804 0.9779978  0.93867458]\n",
      "[0.98673469 0.99471366 0.94282946 0.96732673 0.95112016 0.94730942\n",
      " 0.98121086 0.93774319 0.91273101 0.94053518]\n"
     ]
    }
   ],
   "source": [
    "print(accuracy_score(ytest, ypredtest))\n",
    "print(precision_score(ytest, ypredtest, average=None))\n",
    "print(recall_score(ytest, ypredtest, average=None))"
   ]
  },
  {
   "cell_type": "code",
   "execution_count": 164,
   "id": "280443d0",
   "metadata": {},
   "outputs": [
    {
     "name": "stdout",
     "output_type": "stream",
     "text": [
      "Index(['PassengerId', 'Survived', 'Pclass', 'Name', 'Sex', 'Age', 'SibSp',\n",
      "       'Parch', 'Ticket', 'Fare', 'Cabin', 'Embarked'],\n",
      "      dtype='object')\n",
      "<bound method NDFrame.head of      PassengerId  Survived  Pclass  \\\n",
      "0              1         0       3   \n",
      "1              2         1       1   \n",
      "2              3         1       3   \n",
      "3              4         1       1   \n",
      "4              5         0       3   \n",
      "..           ...       ...     ...   \n",
      "886          887         0       2   \n",
      "887          888         1       1   \n",
      "888          889         0       3   \n",
      "889          890         1       1   \n",
      "890          891         0       3   \n",
      "\n",
      "                                                  Name     Sex   Age  SibSp  \\\n",
      "0                              Braund, Mr. Owen Harris    male  22.0      1   \n",
      "1    Cumings, Mrs. John Bradley (Florence Briggs Th...  female  38.0      1   \n",
      "2                               Heikkinen, Miss. Laina  female  26.0      0   \n",
      "3         Futrelle, Mrs. Jacques Heath (Lily May Peel)  female  35.0      1   \n",
      "4                             Allen, Mr. William Henry    male  35.0      0   \n",
      "..                                                 ...     ...   ...    ...   \n",
      "886                              Montvila, Rev. Juozas    male  27.0      0   \n",
      "887                       Graham, Miss. Margaret Edith  female  19.0      0   \n",
      "888           Johnston, Miss. Catherine Helen \"Carrie\"  female   NaN      1   \n",
      "889                              Behr, Mr. Karl Howell    male  26.0      0   \n",
      "890                                Dooley, Mr. Patrick    male  32.0      0   \n",
      "\n",
      "     Parch            Ticket     Fare Cabin Embarked  \n",
      "0        0         A/5 21171   7.2500   NaN        S  \n",
      "1        0          PC 17599  71.2833   C85        C  \n",
      "2        0  STON/O2. 3101282   7.9250   NaN        S  \n",
      "3        0            113803  53.1000  C123        S  \n",
      "4        0            373450   8.0500   NaN        S  \n",
      "..     ...               ...      ...   ...      ...  \n",
      "886      0            211536  13.0000   NaN        S  \n",
      "887      0            112053  30.0000   B42        S  \n",
      "888      2        W./C. 6607  23.4500   NaN        S  \n",
      "889      0            111369  30.0000  C148        C  \n",
      "890      0            370376   7.7500   NaN        Q  \n",
      "\n",
      "[891 rows x 12 columns]>\n"
     ]
    }
   ],
   "source": [
    "# Titanic dataset wrangling\n",
    "import pandas as pd\n",
    "df = pd.read_csv('./data/titanic/train.csv')\n",
    "print(df.columns)\n",
    "print(df.head)"
   ]
  },
  {
   "cell_type": "code",
   "execution_count": 181,
   "id": "7d925c7d",
   "metadata": {},
   "outputs": [
    {
     "name": "stdout",
     "output_type": "stream",
     "text": [
      "Index(['PassengerId', 'Survived', 'Pclass', 'Name', 'Sex', 'Age', 'SibSp',\n",
      "       'Parch', 'Ticket', 'Fare', 'Cabin', 'Embarked', 'Sex_Class',\n",
      "       'Embarked_Class', 'Imputed_Age'],\n",
      "      dtype='object')\n",
      "<bound method NDFrame.head of      PassengerId  Survived  Pclass  \\\n",
      "0              1         0       3   \n",
      "1              2         1       1   \n",
      "2              3         1       3   \n",
      "3              4         1       1   \n",
      "4              5         0       3   \n",
      "..           ...       ...     ...   \n",
      "886          887         0       2   \n",
      "887          888         1       1   \n",
      "888          889         0       3   \n",
      "889          890         1       1   \n",
      "890          891         0       3   \n",
      "\n",
      "                                                  Name     Sex   Age  SibSp  \\\n",
      "0                              Braund, Mr. Owen Harris    male  22.0      1   \n",
      "1    Cumings, Mrs. John Bradley (Florence Briggs Th...  female  38.0      1   \n",
      "2                               Heikkinen, Miss. Laina  female  26.0      0   \n",
      "3         Futrelle, Mrs. Jacques Heath (Lily May Peel)  female  35.0      1   \n",
      "4                             Allen, Mr. William Henry    male  35.0      0   \n",
      "..                                                 ...     ...   ...    ...   \n",
      "886                              Montvila, Rev. Juozas    male  27.0      0   \n",
      "887                       Graham, Miss. Margaret Edith  female  19.0      0   \n",
      "888           Johnston, Miss. Catherine Helen \"Carrie\"  female   NaN      1   \n",
      "889                              Behr, Mr. Karl Howell    male  26.0      0   \n",
      "890                                Dooley, Mr. Patrick    male  32.0      0   \n",
      "\n",
      "     Parch            Ticket     Fare Cabin Embarked  Sex_Class  \\\n",
      "0        0         A/5 21171   7.2500   NaN        S          1   \n",
      "1        0          PC 17599  71.2833   C85        C          0   \n",
      "2        0  STON/O2. 3101282   7.9250   NaN        S          0   \n",
      "3        0            113803  53.1000  C123        S          0   \n",
      "4        0            373450   8.0500   NaN        S          1   \n",
      "..     ...               ...      ...   ...      ...        ...   \n",
      "886      0            211536  13.0000   NaN        S          1   \n",
      "887      0            112053  30.0000   B42        S          0   \n",
      "888      2        W./C. 6607  23.4500   NaN        S          0   \n",
      "889      0            111369  30.0000  C148        C          1   \n",
      "890      0            370376   7.7500   NaN        Q          1   \n",
      "\n",
      "     Embarked_Class  Imputed_Age  \n",
      "0                 2    22.000000  \n",
      "1                 0    38.000000  \n",
      "2                 2    26.000000  \n",
      "3                 2    35.000000  \n",
      "4                 2    35.000000  \n",
      "..              ...          ...  \n",
      "886               2    27.000000  \n",
      "887               2    19.000000  \n",
      "888               2    29.699118  \n",
      "889               0    26.000000  \n",
      "890               1    32.000000  \n",
      "\n",
      "[891 rows x 15 columns]>\n",
      "(891,)\n",
      "(891, 8)\n"
     ]
    }
   ],
   "source": [
    "from sklearn.preprocessing import LabelEncoder\n",
    "from sklearn.impute import SimpleImputer\n",
    "\n",
    "le = LabelEncoder()\n",
    "df['Sex_Class'] = le.fit_transform(df.Sex)\n",
    "df['Embarked_Class'] = le.fit_transform(df.Embarked)\n",
    "df['Imputed_Age'] = df['Age'].fillna(df['Age'].mean())\n",
    "print(df.columns)\n",
    "print(df.head)\n",
    "\n",
    "# imp = SimpleImputer(missing_values=np.nan, strategy='mean')\n",
    "\n",
    "\n",
    "y = df['Survived'].values\n",
    "X = df.drop(columns=['Survived', 'Name', 'Ticket', 'Cabin', 'Sex', 'Embarked', 'Age']).values\n",
    "print(y.shape)\n",
    "print(X.shape)"
   ]
  },
  {
   "cell_type": "code",
   "execution_count": 182,
   "id": "cd27caee",
   "metadata": {},
   "outputs": [
    {
     "name": "stdout",
     "output_type": "stream",
     "text": [
      "[0.81818182 0.7979798  0.83164983]\n"
     ]
    }
   ],
   "source": [
    "from sklearn.ensemble import RandomForestClassifier\n",
    "\n",
    "clf = RandomForestClassifier()\n",
    "print(cross_val_score(clf, X, y, cv=3))"
   ]
  },
  {
   "cell_type": "code",
   "execution_count": null,
   "id": "88771062",
   "metadata": {},
   "outputs": [],
   "source": []
  }
 ],
 "metadata": {
  "kernelspec": {
   "display_name": "Python 3.10.6 ('.venv': venv)",
   "language": "python",
   "name": "python3"
  },
  "language_info": {
   "codemirror_mode": {
    "name": "ipython",
    "version": 3
   },
   "file_extension": ".py",
   "mimetype": "text/x-python",
   "name": "python",
   "nbconvert_exporter": "python",
   "pygments_lexer": "ipython3",
   "version": "3.10.6"
  },
  "vscode": {
   "interpreter": {
    "hash": "9120ca18d9a6352a9f63d878cd22df8740658f703b5d617e89c0216f7e3927ea"
   }
  }
 },
 "nbformat": 4,
 "nbformat_minor": 5
}
